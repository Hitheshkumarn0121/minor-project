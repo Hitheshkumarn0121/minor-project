{
 "cells": [
  {
   "cell_type": "code",
   "execution_count": 2,
   "id": "d5037191",
   "metadata": {},
   "outputs": [],
   "source": [
    "import pandas as pd"
   ]
  },
  {
   "cell_type": "code",
   "execution_count": 4,
   "id": "2eb4ee05",
   "metadata": {},
   "outputs": [],
   "source": [
    "import pandas as pd\n",
    "import numpy as np\n",
    "import seaborn as sns\n",
    "import matplotlib.pyplot as plt\n",
    "\n",
    "import chart_studio.plotly as py\n",
    "import plotly.graph_objs as go\n",
    "from plotly.offline import iplot, init_notebook_mode\n",
    "import cufflinks"
   ]
  },
  {
   "cell_type": "code",
   "execution_count": 5,
   "id": "43d5393c",
   "metadata": {},
   "outputs": [
    {
     "name": "stdout",
     "output_type": "stream",
     "text": [
      "Requirement already satisfied: chart_studio in c:\\users\\hithe\\anaconda3\\lib\\site-packages (1.1.0)\n",
      "Requirement already satisfied: retrying>=1.3.3 in c:\\users\\hithe\\anaconda3\\lib\\site-packages (from chart_studio) (1.3.3)\n",
      "Requirement already satisfied: plotly in c:\\users\\hithe\\anaconda3\\lib\\site-packages (from chart_studio) (5.4.0)\n",
      "Requirement already satisfied: requests in c:\\users\\hithe\\anaconda3\\lib\\site-packages (from chart_studio) (2.25.1)\n",
      "Requirement already satisfied: six in c:\\users\\hithe\\anaconda3\\lib\\site-packages (from chart_studio) (1.15.0)\n",
      "Requirement already satisfied: tenacity>=6.2.0 in c:\\users\\hithe\\anaconda3\\lib\\site-packages (from plotly->chart_studio) (8.0.1)\n",
      "Requirement already satisfied: chardet<5,>=3.0.2 in c:\\users\\hithe\\anaconda3\\lib\\site-packages (from requests->chart_studio) (4.0.0)\n",
      "Requirement already satisfied: certifi>=2017.4.17 in c:\\users\\hithe\\anaconda3\\lib\\site-packages (from requests->chart_studio) (2020.12.5)\n",
      "Requirement already satisfied: urllib3<1.27,>=1.21.1 in c:\\users\\hithe\\anaconda3\\lib\\site-packages (from requests->chart_studio) (1.26.4)\n",
      "Requirement already satisfied: idna<3,>=2.5 in c:\\users\\hithe\\anaconda3\\lib\\site-packages (from requests->chart_studio) (2.10)\n",
      "Note: you may need to restart the kernel to use updated packages.\n"
     ]
    }
   ],
   "source": [
    "pip install chart_studio"
   ]
  },
  {
   "cell_type": "code",
   "execution_count": 6,
   "id": "c78d394f",
   "metadata": {},
   "outputs": [
    {
     "name": "stdout",
     "output_type": "stream",
     "text": [
      "Requirement already satisfied: chart_studio in c:\\users\\hithe\\anaconda3\\lib\\site-packages (1.1.0)\n",
      "Requirement already satisfied: plotly in c:\\users\\hithe\\anaconda3\\lib\\site-packages (from chart_studio) (5.4.0)\n",
      "Requirement already satisfied: six in c:\\users\\hithe\\anaconda3\\lib\\site-packages (from chart_studio) (1.15.0)\n",
      "Requirement already satisfied: retrying>=1.3.3 in c:\\users\\hithe\\anaconda3\\lib\\site-packages (from chart_studio) (1.3.3)\n",
      "Requirement already satisfied: requests in c:\\users\\hithe\\anaconda3\\lib\\site-packages (from chart_studio) (2.25.1)\n",
      "Requirement already satisfied: tenacity>=6.2.0 in c:\\users\\hithe\\anaconda3\\lib\\site-packages (from plotly->chart_studio) (8.0.1)\n",
      "Requirement already satisfied: urllib3<1.27,>=1.21.1 in c:\\users\\hithe\\anaconda3\\lib\\site-packages (from requests->chart_studio) (1.26.4)\n",
      "Requirement already satisfied: idna<3,>=2.5 in c:\\users\\hithe\\anaconda3\\lib\\site-packages (from requests->chart_studio) (2.10)\n",
      "Requirement already satisfied: certifi>=2017.4.17 in c:\\users\\hithe\\anaconda3\\lib\\site-packages (from requests->chart_studio) (2020.12.5)\n",
      "Requirement already satisfied: chardet<5,>=3.0.2 in c:\\users\\hithe\\anaconda3\\lib\\site-packages (from requests->chart_studio) (4.0.0)\n",
      "Note: you may need to restart the kernel to use updated packages.\n"
     ]
    }
   ],
   "source": [
    "pip install chart_studio"
   ]
  },
  {
   "cell_type": "code",
   "execution_count": 7,
   "id": "38f5938c",
   "metadata": {},
   "outputs": [
    {
     "name": "stdout",
     "output_type": "stream",
     "text": [
      "Requirement already satisfied: cufflinks in c:\\users\\hithe\\anaconda3\\lib\\site-packages (0.17.3)\n",
      "Requirement already satisfied: ipython>=5.3.0 in c:\\users\\hithe\\anaconda3\\lib\\site-packages (from cufflinks) (7.22.0)\n",
      "Requirement already satisfied: plotly>=4.1.1 in c:\\users\\hithe\\anaconda3\\lib\\site-packages (from cufflinks) (5.4.0)\n",
      "Requirement already satisfied: setuptools>=34.4.1 in c:\\users\\hithe\\anaconda3\\lib\\site-packages (from cufflinks) (52.0.0.post20210125)\n",
      "Requirement already satisfied: ipywidgets>=7.0.0 in c:\\users\\hithe\\anaconda3\\lib\\site-packages (from cufflinks) (7.6.3)\n",
      "Requirement already satisfied: colorlover>=0.2.1 in c:\\users\\hithe\\anaconda3\\lib\\site-packages (from cufflinks) (0.3.0)\n",
      "Requirement already satisfied: six>=1.9.0 in c:\\users\\hithe\\anaconda3\\lib\\site-packages (from cufflinks) (1.15.0)\n",
      "Requirement already satisfied: pandas>=0.19.2 in c:\\users\\hithe\\anaconda3\\lib\\site-packages (from cufflinks) (1.2.4)\n",
      "Requirement already satisfied: numpy>=1.9.2 in c:\\users\\hithe\\anaconda3\\lib\\site-packages (from cufflinks) (1.20.1)\n",
      "Requirement already satisfied: jedi>=0.16 in c:\\users\\hithe\\anaconda3\\lib\\site-packages (from ipython>=5.3.0->cufflinks) (0.17.2)\n",
      "Requirement already satisfied: decorator in c:\\users\\hithe\\anaconda3\\lib\\site-packages (from ipython>=5.3.0->cufflinks) (5.0.6)\n",
      "Requirement already satisfied: pygments in c:\\users\\hithe\\anaconda3\\lib\\site-packages (from ipython>=5.3.0->cufflinks) (2.8.1)\n",
      "Requirement already satisfied: pickleshare in c:\\users\\hithe\\anaconda3\\lib\\site-packages (from ipython>=5.3.0->cufflinks) (0.7.5)\n",
      "Requirement already satisfied: backcall in c:\\users\\hithe\\anaconda3\\lib\\site-packages (from ipython>=5.3.0->cufflinks) (0.2.0)\n",
      "Requirement already satisfied: colorama in c:\\users\\hithe\\anaconda3\\lib\\site-packages (from ipython>=5.3.0->cufflinks) (0.4.4)\n",
      "Requirement already satisfied: prompt-toolkit!=3.0.0,!=3.0.1,<3.1.0,>=2.0.0 in c:\\users\\hithe\\anaconda3\\lib\\site-packages (from ipython>=5.3.0->cufflinks) (3.0.17)\n",
      "Requirement already satisfied: traitlets>=4.2 in c:\\users\\hithe\\anaconda3\\lib\\site-packages (from ipython>=5.3.0->cufflinks) (5.0.5)\n",
      "Requirement already satisfied: ipykernel>=4.5.1 in c:\\users\\hithe\\anaconda3\\lib\\site-packages (from ipywidgets>=7.0.0->cufflinks) (5.3.4)\n",
      "Requirement already satisfied: widgetsnbextension~=3.5.0 in c:\\users\\hithe\\anaconda3\\lib\\site-packages (from ipywidgets>=7.0.0->cufflinks) (3.5.1)\n",
      "Requirement already satisfied: nbformat>=4.2.0 in c:\\users\\hithe\\anaconda3\\lib\\site-packages (from ipywidgets>=7.0.0->cufflinks) (5.1.3)\n",
      "Requirement already satisfied: jupyterlab-widgets>=1.0.0 in c:\\users\\hithe\\anaconda3\\lib\\site-packages (from ipywidgets>=7.0.0->cufflinks) (1.0.0)\n",
      "Requirement already satisfied: jupyter-client in c:\\users\\hithe\\anaconda3\\lib\\site-packages (from ipykernel>=4.5.1->ipywidgets>=7.0.0->cufflinks) (6.1.12)\n",
      "Requirement already satisfied: tornado>=4.2 in c:\\users\\hithe\\anaconda3\\lib\\site-packages (from ipykernel>=4.5.1->ipywidgets>=7.0.0->cufflinks) (6.1)\n",
      "Requirement already satisfied: parso<0.8.0,>=0.7.0 in c:\\users\\hithe\\anaconda3\\lib\\site-packages (from jedi>=0.16->ipython>=5.3.0->cufflinks) (0.7.0)\n",
      "Requirement already satisfied: ipython-genutils in c:\\users\\hithe\\anaconda3\\lib\\site-packages (from nbformat>=4.2.0->ipywidgets>=7.0.0->cufflinks) (0.2.0)\n",
      "Requirement already satisfied: jupyter-core in c:\\users\\hithe\\anaconda3\\lib\\site-packages (from nbformat>=4.2.0->ipywidgets>=7.0.0->cufflinks) (4.7.1)\n",
      "Requirement already satisfied: jsonschema!=2.5.0,>=2.4 in c:\\users\\hithe\\anaconda3\\lib\\site-packages (from nbformat>=4.2.0->ipywidgets>=7.0.0->cufflinks) (3.2.0)\n",
      "Requirement already satisfied: attrs>=17.4.0 in c:\\users\\hithe\\anaconda3\\lib\\site-packages (from jsonschema!=2.5.0,>=2.4->nbformat>=4.2.0->ipywidgets>=7.0.0->cufflinks) (20.3.0)\n",
      "Requirement already satisfied: pyrsistent>=0.14.0 in c:\\users\\hithe\\anaconda3\\lib\\site-packages (from jsonschema!=2.5.0,>=2.4->nbformat>=4.2.0->ipywidgets>=7.0.0->cufflinks) (0.17.3)\n",
      "Requirement already satisfied: python-dateutil>=2.7.3 in c:\\users\\hithe\\anaconda3\\lib\\site-packages (from pandas>=0.19.2->cufflinks) (2.8.1)\n",
      "Requirement already satisfied: pytz>=2017.3 in c:\\users\\hithe\\anaconda3\\lib\\site-packages (from pandas>=0.19.2->cufflinks) (2021.1)\n",
      "Requirement already satisfied: tenacity>=6.2.0 in c:\\users\\hithe\\anaconda3\\lib\\site-packages (from plotly>=4.1.1->cufflinks) (8.0.1)\n",
      "Requirement already satisfied: wcwidth in c:\\users\\hithe\\anaconda3\\lib\\site-packages (from prompt-toolkit!=3.0.0,!=3.0.1,<3.1.0,>=2.0.0->ipython>=5.3.0->cufflinks) (0.2.5)\n",
      "Requirement already satisfied: notebook>=4.4.1 in c:\\users\\hithe\\anaconda3\\lib\\site-packages (from widgetsnbextension~=3.5.0->ipywidgets>=7.0.0->cufflinks) (6.3.0)\n",
      "Requirement already satisfied: terminado>=0.8.3 in c:\\users\\hithe\\anaconda3\\lib\\site-packages (from notebook>=4.4.1->widgetsnbextension~=3.5.0->ipywidgets>=7.0.0->cufflinks) (0.9.4)\n",
      "Requirement already satisfied: pyzmq>=17 in c:\\users\\hithe\\anaconda3\\lib\\site-packages (from notebook>=4.4.1->widgetsnbextension~=3.5.0->ipywidgets>=7.0.0->cufflinks) (20.0.0)\n",
      "Requirement already satisfied: nbconvert in c:\\users\\hithe\\anaconda3\\lib\\site-packages (from notebook>=4.4.1->widgetsnbextension~=3.5.0->ipywidgets>=7.0.0->cufflinks) (6.0.7)\n",
      "Requirement already satisfied: prometheus-client in c:\\users\\hithe\\anaconda3\\lib\\site-packages (from notebook>=4.4.1->widgetsnbextension~=3.5.0->ipywidgets>=7.0.0->cufflinks) (0.10.1)\n",
      "Requirement already satisfied: argon2-cffi in c:\\users\\hithe\\anaconda3\\lib\\site-packages (from notebook>=4.4.1->widgetsnbextension~=3.5.0->ipywidgets>=7.0.0->cufflinks) (20.1.0)\n",
      "Requirement already satisfied: Send2Trash>=1.5.0 in c:\\users\\hithe\\anaconda3\\lib\\site-packages (from notebook>=4.4.1->widgetsnbextension~=3.5.0->ipywidgets>=7.0.0->cufflinks) (1.5.0)\n",
      "Requirement already satisfied: jinja2 in c:\\users\\hithe\\anaconda3\\lib\\site-packages (from notebook>=4.4.1->widgetsnbextension~=3.5.0->ipywidgets>=7.0.0->cufflinks) (2.11.3)\n",
      "Requirement already satisfied: pywin32>=1.0 in c:\\users\\hithe\\anaconda3\\lib\\site-packages (from jupyter-core->nbformat>=4.2.0->ipywidgets>=7.0.0->cufflinks) (227)\n",
      "Requirement already satisfied: pywinpty>=0.5 in c:\\users\\hithe\\anaconda3\\lib\\site-packages (from terminado>=0.8.3->notebook>=4.4.1->widgetsnbextension~=3.5.0->ipywidgets>=7.0.0->cufflinks) (0.5.7)\n",
      "Requirement already satisfied: cffi>=1.0.0 in c:\\users\\hithe\\anaconda3\\lib\\site-packages (from argon2-cffi->notebook>=4.4.1->widgetsnbextension~=3.5.0->ipywidgets>=7.0.0->cufflinks) (1.14.5)\n",
      "Requirement already satisfied: pycparser in c:\\users\\hithe\\anaconda3\\lib\\site-packages (from cffi>=1.0.0->argon2-cffi->notebook>=4.4.1->widgetsnbextension~=3.5.0->ipywidgets>=7.0.0->cufflinks) (2.20)\n",
      "Requirement already satisfied: MarkupSafe>=0.23 in c:\\users\\hithe\\anaconda3\\lib\\site-packages (from jinja2->notebook>=4.4.1->widgetsnbextension~=3.5.0->ipywidgets>=7.0.0->cufflinks) (1.1.1)\n",
      "Requirement already satisfied: bleach in c:\\users\\hithe\\anaconda3\\lib\\site-packages (from nbconvert->notebook>=4.4.1->widgetsnbextension~=3.5.0->ipywidgets>=7.0.0->cufflinks) (3.3.0)\n",
      "Requirement already satisfied: pandocfilters>=1.4.1 in c:\\users\\hithe\\anaconda3\\lib\\site-packages (from nbconvert->notebook>=4.4.1->widgetsnbextension~=3.5.0->ipywidgets>=7.0.0->cufflinks) (1.4.3)\n",
      "Requirement already satisfied: nbclient<0.6.0,>=0.5.0 in c:\\users\\hithe\\anaconda3\\lib\\site-packages (from nbconvert->notebook>=4.4.1->widgetsnbextension~=3.5.0->ipywidgets>=7.0.0->cufflinks) (0.5.3)\n",
      "Requirement already satisfied: mistune<2,>=0.8.1 in c:\\users\\hithe\\anaconda3\\lib\\site-packages (from nbconvert->notebook>=4.4.1->widgetsnbextension~=3.5.0->ipywidgets>=7.0.0->cufflinks) (0.8.4)\n",
      "Requirement already satisfied: jupyterlab-pygments in c:\\users\\hithe\\anaconda3\\lib\\site-packages (from nbconvert->notebook>=4.4.1->widgetsnbextension~=3.5.0->ipywidgets>=7.0.0->cufflinks) (0.1.2)\n",
      "Requirement already satisfied: defusedxml in c:\\users\\hithe\\anaconda3\\lib\\site-packages (from nbconvert->notebook>=4.4.1->widgetsnbextension~=3.5.0->ipywidgets>=7.0.0->cufflinks) (0.7.1)\n",
      "Requirement already satisfied: testpath in c:\\users\\hithe\\anaconda3\\lib\\site-packages (from nbconvert->notebook>=4.4.1->widgetsnbextension~=3.5.0->ipywidgets>=7.0.0->cufflinks) (0.4.4)\n",
      "Requirement already satisfied: entrypoints>=0.2.2 in c:\\users\\hithe\\anaconda3\\lib\\site-packages (from nbconvert->notebook>=4.4.1->widgetsnbextension~=3.5.0->ipywidgets>=7.0.0->cufflinks) (0.3)\n",
      "Requirement already satisfied: nest-asyncio in c:\\users\\hithe\\anaconda3\\lib\\site-packages (from nbclient<0.6.0,>=0.5.0->nbconvert->notebook>=4.4.1->widgetsnbextension~=3.5.0->ipywidgets>=7.0.0->cufflinks) (1.5.1)\n",
      "Requirement already satisfied: async-generator in c:\\users\\hithe\\anaconda3\\lib\\site-packages (from nbclient<0.6.0,>=0.5.0->nbconvert->notebook>=4.4.1->widgetsnbextension~=3.5.0->ipywidgets>=7.0.0->cufflinks) (1.10)\n",
      "Requirement already satisfied: packaging in c:\\users\\hithe\\anaconda3\\lib\\site-packages (from bleach->nbconvert->notebook>=4.4.1->widgetsnbextension~=3.5.0->ipywidgets>=7.0.0->cufflinks) (20.9)\n",
      "Requirement already satisfied: webencodings in c:\\users\\hithe\\anaconda3\\lib\\site-packages (from bleach->nbconvert->notebook>=4.4.1->widgetsnbextension~=3.5.0->ipywidgets>=7.0.0->cufflinks) (0.5.1)\n",
      "Requirement already satisfied: pyparsing>=2.0.2 in c:\\users\\hithe\\anaconda3\\lib\\site-packages (from packaging->bleach->nbconvert->notebook>=4.4.1->widgetsnbextension~=3.5.0->ipywidgets>=7.0.0->cufflinks) (2.4.7)\n",
      "Note: you may need to restart the kernel to use updated packages.\n"
     ]
    }
   ],
   "source": [
    "pip install cufflinks"
   ]
  },
  {
   "cell_type": "code",
   "execution_count": null,
   "id": "16ba5fb5",
   "metadata": {},
   "outputs": [],
   "source": []
  }
 ],
 "metadata": {
  "kernelspec": {
   "display_name": "Python 3",
   "language": "python",
   "name": "python3"
  },
  "language_info": {
   "codemirror_mode": {
    "name": "ipython",
    "version": 3
   },
   "file_extension": ".py",
   "mimetype": "text/x-python",
   "name": "python",
   "nbconvert_exporter": "python",
   "pygments_lexer": "ipython3",
   "version": "3.8.8"
  }
 },
 "nbformat": 4,
 "nbformat_minor": 5
}
